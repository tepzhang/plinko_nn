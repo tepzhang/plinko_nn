{
 "cells": [
  {
   "cell_type": "code",
   "execution_count": 1,
   "metadata": {},
   "outputs": [],
   "source": [
    "repo_path = '/home/ajhnam/plinko_nn'"
   ]
  },
  {
   "cell_type": "code",
   "execution_count": 220,
   "metadata": {},
   "outputs": [],
   "source": [
    "import sys\n",
    "sys.path.append(repo_path + '/src')\n",
    "import warnings\n",
    "warnings.filterwarnings('ignore')\n",
    "\n",
    "import numpy as np\n",
    "import pandas as pd\n",
    "pd.options.display.min_rows = 20\n",
    "pd.options.display.max_rows = 100\n",
    "\n",
    "from tqdm.auto import tqdm\n",
    "\n",
    "import torch\n",
    "import torch.nn as nn\n",
    "import torch.nn.functional as F\n",
    "import torch.optim as optim\n",
    "from torch.utils.data import DataLoader\n",
    "\n",
    "from plinko.misc import data_utils\n",
    "from plinko.misc.simulation_dataset import SimulationDataset\n",
    "from plinko.model.predictor_gru import GRUPredictor\n",
    "from plinko.misc import plot as plinko_plot\n",
    "from plinko.model.mlp import MLP\n",
    "from plinko.misc import utils\n",
    "from plotnine import *\n",
    "import math\n",
    "\n",
    "from torch.distributions.normal import Normal"
   ]
  },
  {
   "cell_type": "code",
   "execution_count": 3,
   "metadata": {},
   "outputs": [],
   "source": [
    "device = 0\n",
    "# device = torch.device('cuda' if torch.cuda.is_available() else 'cpu')\n",
    "np.random.seed(0)\n",
    "torch.manual_seed(0)\n",
    "torch.set_default_tensor_type('torch.FloatTensor')\n",
    "epsilon = sys.float_info.epsilon"
   ]
  },
  {
   "cell_type": "code",
   "execution_count": 226,
   "metadata": {},
   "outputs": [],
   "source": [
    "df_ball = pd.read_feather(repo_path + '/data/simulations/sim_ball.feather')\n",
    "df_env = pd.read_feather(repo_path + '/data/simulations/sim_environment.feather')\n",
    "df_col = pd.read_feather(repo_path + '/data/simulations/sim_collisions.feather')"
   ]
  },
  {
   "cell_type": "code",
   "execution_count": 227,
   "metadata": {},
   "outputs": [],
   "source": [
    "dim_divisor = 700\n",
    "\n",
    "df_ball.px /= dim_divisor\n",
    "df_ball.py /= dim_divisor\n",
    "df_ball.vx /= dim_divisor\n",
    "df_ball.vy /= dim_divisor\n",
    "\n",
    "for col in df_env.columns:\n",
    "    if '_x' in col or '_y' in col:\n",
    "        df_env[col] /= dim_divisor\n",
    "    elif '_r' in col:\n",
    "        df_env[col] /= 2*math.pi"
   ]
  },
  {
   "cell_type": "code",
   "execution_count": 228,
   "metadata": {},
   "outputs": [],
   "source": [
    "collisions = df_col.copy()\n",
    "collisions = collisions.rename({'object': 'collision'}, axis=1)\n",
    "collisions.t -= 1\n",
    "\n",
    "collisions = df_ball.merge(collisions, how='left')\n",
    "collisions.collision[collisions.collision.isna()] = 'none'\n",
    "collisions.collision[(collisions.collision == 'walls') & (collisions.px < 200/dim_divisor)] = 'left_wall'\n",
    "collisions.collision[(collisions.collision == 'walls') & (collisions.px > 500/dim_divisor)] = 'right_wall'\n",
    "collisions = collisions.groupby('collision', as_index=False).apply(lambda x: x.sample(2000))\n",
    "collisions = collisions.sort_values(['simulation', 'run', 't'])\n",
    "\n",
    "env_columns = ['triangle_x', 'triangle_y', 'triangle_r',\n",
    "               'rectangle_x', 'rectangle_y', 'rectangle_r',\n",
    "               'pentagon_x', 'pentagon_y','pentagon_r']\n",
    "envs = collisions.merge(df_env).sort_values(['simulation', 'run', 't'])[env_columns]"
   ]
  },
  {
   "cell_type": "code",
   "execution_count": 229,
   "metadata": {},
   "outputs": [],
   "source": [
    "idx2col = sorted(collisions.collision.unique())\n",
    "col2idx = {c: i for c, i in zip(idx2col, range(len(idx2col)))}\n",
    "\n",
    "states = torch.tensor(collisions[['px', 'py', 'vx', 'vy']].values, dtype=torch.float, device=device)\n",
    "targets = torch.tensor([col2idx[c] for c in collisions.collision], dtype=torch.long, device=device)\n",
    "envs = torch.tensor(envs.values, dtype=torch.float, device=device)"
   ]
  },
  {
   "cell_type": "code",
   "execution_count": null,
   "metadata": {},
   "outputs": [
    {
     "data": {
      "application/vnd.jupyter.widget-view+json": {
       "model_id": "5a4511e51b794732b0816252708cd137",
       "version_major": 2,
       "version_minor": 0
      },
      "text/plain": [
       "HBox(children=(IntProgress(value=0, max=501), HTML(value='')))"
      ]
     },
     "metadata": {},
     "output_type": "display_data"
    },
    {
     "name": "stdout",
     "output_type": "stream",
     "text": [
      "0 1.9566 0.0338\n",
      "100 0.9724 0.5919\n",
      "200 0.7882 0.6471\n",
      "300 0.761 0.6573\n",
      "400 0.7509 0.658\n"
     ]
    }
   ],
   "source": [
    "model = MLP(input_size=[9, 4],\n",
    "            hidden_layer_size=[48, 48, 48],\n",
    "            activation=nn.ELU,\n",
    "            output_size=len(idx2col)).to(device)\n",
    "optimizer = optim.Adam(model.parameters(), weight_decay=.001)\n",
    "epochs = 500\n",
    "\n",
    "rows = []\n",
    "for epoch in tqdm(range(epochs+1)):\n",
    "    optimizer.zero_grad()\n",
    "    outputs = model(envs, states)\n",
    "    loss = F.cross_entropy(outputs, targets)\n",
    "    loss.backward()\n",
    "    optimizer.step()\n",
    "    \n",
    "    loss = float(loss)\n",
    "    corrects = (outputs.argmax(-1) == targets).float()\n",
    "    accuracy = float(corrects.mean())\n",
    "    row = {'epoch': epoch, 'loss': loss, 'acc_total': accuracy}\n",
    "    for idx in range(len(idx2col)):\n",
    "        row['acc_' + idx2col[idx]] = float(corrects[targets == idx].mean())\n",
    "    rows.append(row)\n",
    "    if epoch%100 == 0:\n",
    "        print(epoch, round(loss, 4), round(accuracy, 4))\n",
    "        \n",
    "summary = pd.DataFrame(rows)"
   ]
  },
  {
   "cell_type": "code",
   "execution_count": null,
   "metadata": {},
   "outputs": [],
   "source": [
    "accuracies = summary.drop('loss', axis=1)\n",
    "accuracies = pd.melt(accuracies, id_vars='epoch', var_name='collision')\n",
    "accuracies.collision = [a[4:] for a in accuracies.collision]\n",
    "accuracies = accuracies.rename({'value': 'accuracy'}, axis=1)\n",
    "\n",
    "(ggplot(accuracies)\n",
    "     + geom_point(aes(x='epoch', y='accuracy', color='collision'))\n",
    "     + labs(title='Collision Classification Accuracy')\n",
    "     + ylim(0, 1)\n",
    "     + theme(\n",
    "             figure_size=(12, 6),\n",
    "             panel_background=element_blank(),\n",
    "             line=element_blank(),\n",
    "             panel_border=element_blank(),\n",
    "            )\n",
    ")"
   ]
  },
  {
   "cell_type": "code",
   "execution_count": null,
   "metadata": {},
   "outputs": [],
   "source": []
  }
 ],
 "metadata": {
  "kernelspec": {
   "display_name": "Python 3",
   "language": "python",
   "name": "python3"
  },
  "language_info": {
   "codemirror_mode": {
    "name": "ipython",
    "version": 3
   },
   "file_extension": ".py",
   "mimetype": "text/x-python",
   "name": "python",
   "nbconvert_exporter": "python",
   "pygments_lexer": "ipython3",
   "version": "3.7.4"
  }
 },
 "nbformat": 4,
 "nbformat_minor": 2
}
