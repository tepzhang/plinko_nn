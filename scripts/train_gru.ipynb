{
 "cells": [
  {
   "cell_type": "code",
   "execution_count": 1,
   "metadata": {},
   "outputs": [],
   "source": [
    "import sys\n",
    "sys.path.append('/home/ajhnam/plinko_nn/src')\n",
    "import warnings\n",
    "warnings.filterwarnings('ignore')\n",
    "\n",
    "import numpy as np\n",
    "import pandas as pd\n",
    "from tqdm import tqdm_notebook as tqdm\n",
    "\n",
    "import torch\n",
    "import torch.nn as nn\n",
    "import torch.nn.functional as F\n",
    "import torch.optim as optim\n",
    "from torch.utils.data import DataLoader\n",
    "\n",
    "from plinko.misc import data_utils\n",
    "from plinko.misc.simulation_dataset import SimulationDataset\n",
    "from plinko.model.predictor_gru import GRUPredictor"
   ]
  },
  {
   "cell_type": "code",
   "execution_count": 2,
   "metadata": {},
   "outputs": [],
   "source": [
    "device = 0\n",
    "np.random.seed(0)\n",
    "torch.manual_seed(0)\n",
    "torch.set_default_tensor_type('torch.FloatTensor')\n",
    "epsilon = sys.float_info.epsilon"
   ]
  },
  {
   "cell_type": "code",
   "execution_count": 3,
   "metadata": {},
   "outputs": [],
   "source": [
    "df_ball = pd.read_feather('/home/ajhnam/plinko_nn/data/simulations/sim_ball.feather')\n",
    "df_env = pd.read_feather('/home/ajhnam/plinko_nn/data/simulations/sim_environment.feather')\n",
    "df_col = pd.read_feather('/home/ajhnam/plinko_nn/data/simulations/sim_collisions.feather')"
   ]
  },
  {
   "cell_type": "code",
   "execution_count": 4,
   "metadata": {},
   "outputs": [],
   "source": [
    "sim_data = data_utils.get_sim_data(df_ball, df_col)\n",
    "selected_runs = sim_data[(sim_data.num_collisions == 1)\n",
    "                         & (sim_data.duration < 50)\n",
    "                         & (sim_data.run <= 2)]\n",
    "simulations, environments = data_utils.create_task_df(selected_runs, df_ball, df_env)\n",
    "states, envs = data_utils.to_tensors(simulations, environments, device)"
   ]
  },
  {
   "cell_type": "code",
   "execution_count": 5,
   "metadata": {},
   "outputs": [],
   "source": [
    "def get_logp_loss(gm, targets):\n",
    "    return -gm.log_p(targets).mean()\n",
    "\n",
    "def get_mu_mse_loss(gm, targets):\n",
    "    return F.mse_loss(gm.mu[:,:,0], targets)"
   ]
  },
  {
   "cell_type": "code",
   "execution_count": 8,
   "metadata": {
    "scrolled": false
   },
   "outputs": [
    {
     "data": {
      "application/vnd.jupyter.widget-view+json": {
       "model_id": "3ba5e96e729c4acaa85030f38b0a4d0e",
       "version_major": 2,
       "version_minor": 0
      },
      "text/plain": [
       "HBox(children=(IntProgress(value=0, max=101), HTML(value='')))"
      ]
     },
     "metadata": {},
     "output_type": "display_data"
    },
    {
     "name": "stdout",
     "output_type": "stream",
     "text": [
      "Epoch 0 | logp: 0.0 | mse: 2028.1729 | total: 2028.1729\n",
      "Epoch 10 | logp: 0.0 | mse: 4.0664 | total: 4.0664\n",
      "Epoch 20 | logp: 0.0 | mse: 0.7547 | total: 0.7547\n",
      "Epoch 30 | logp: 0.0 | mse: 0.4034 | total: 0.4034\n",
      "Epoch 40 | logp: 0.0 | mse: 0.2526 | total: 0.2526\n",
      "Epoch 50 | logp: 0.0 | mse: 0.1734 | total: 0.1734\n",
      "Epoch 60 | logp: 0.0 | mse: 0.1847 | total: 0.1847\n",
      "Epoch 70 | logp: 0.0 | mse: 0.0965 | total: 0.0965\n",
      "Epoch 80 | logp: 0.0 | mse: 0.1815 | total: 0.1815\n",
      "Epoch 90 | logp: 0.0 | mse: 0.1019 | total: 0.1019\n",
      "Epoch 100 | logp: 0.0 | mse: 0.1164 | total: 0.1164\n",
      "\n"
     ]
    }
   ],
   "source": [
    "model = GRUPredictor(env_size=11, state_size=2, num_gaussians=1).to(device)\n",
    "# optimizer = optim.SGD(model.parameters(), lr=.001)\n",
    "optimizer = optim.Adam(model.parameters(), weight_decay=.001)\n",
    "dataset = SimulationDataset(envs, states)\n",
    "dataloader = DataLoader(dataset, batch_size=64, shuffle=True)\n",
    "\n",
    "max_t = simulations.t.max()\n",
    "epochs = 100\n",
    "losses = []\n",
    "for epoch in tqdm(range(epochs+1)):\n",
    "    epoch_loss = 0\n",
    "    epoch_mse_loss = 0\n",
    "    epoch_logp_loss = 0\n",
    "    for batch_i, batch in enumerate(dataloader):\n",
    "        optimizer.zero_grad()\n",
    "            \n",
    "        gm = model(batch['envs'], batch['states'], 0)\n",
    "        targets = batch['targets']\n",
    "        \n",
    "        logp_loss = 0 #get_logp_loss(gm, targets)\n",
    "        mse_loss = 10*get_mu_mse_loss(gm, targets)\n",
    "        loss = logp_loss + mse_loss\n",
    "        loss.backward(retain_graph=True)\n",
    "        optimizer.step()\n",
    "        epoch_loss += loss\n",
    "        epoch_logp_loss += logp_loss\n",
    "        epoch_mse_loss += mse_loss\n",
    "        losses.append((epoch, batch_i, float(loss)))\n",
    "    if epoch%10 == 0:\n",
    "        print('Epoch {} | logp: {} | mse: {} | total: {}'.format(epoch,\n",
    "                                                                 round(float(epoch_logp_loss), 4),\n",
    "                                                                 round(float(epoch_mse_loss), 4),\n",
    "                                                                 round(float(epoch_loss), 4)))\n",
    "    \n",
    "torch.save(model.state_dict(), 'gru.model')"
   ]
  },
  {
   "cell_type": "code",
   "execution_count": 10,
   "metadata": {},
   "outputs": [],
   "source": [
    "dataset = SimulationDataset(envs, states)\n",
    "dataloader = DataLoader(dataset, batch_size=len(envs), shuffle=True)\n",
    "for batch in dataloader:\n",
    "    with torch.no_grad():\n",
    "        inter_gm, extra_gm, samples = model(batch['envs'], batch['states'][:, :1], 100)\n",
    "        targets = batch['targets'][:,1:101]"
   ]
  },
  {
   "cell_type": "code",
   "execution_count": null,
   "metadata": {},
   "outputs": [],
   "source": []
  }
 ],
 "metadata": {
  "kernelspec": {
   "display_name": "Python 3",
   "language": "python",
   "name": "python3"
  },
  "language_info": {
   "codemirror_mode": {
    "name": "ipython",
    "version": 3
   },
   "file_extension": ".py",
   "mimetype": "text/x-python",
   "name": "python",
   "nbconvert_exporter": "python",
   "pygments_lexer": "ipython3",
   "version": "3.7.4"
  }
 },
 "nbformat": 4,
 "nbformat_minor": 2
}
