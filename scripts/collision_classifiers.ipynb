{
 "cells": [
  {
   "cell_type": "code",
   "execution_count": 1,
   "metadata": {},
   "outputs": [],
   "source": [
    "repo_path = 'D:\\ProjGit\\plinko\\plinko_nn'"
   ]
  },
  {
   "cell_type": "code",
   "execution_count": 2,
   "metadata": {},
   "outputs": [],
   "source": [
    "import sys\n",
    "sys.path.append(repo_path + '/src')\n",
    "import warnings\n",
    "warnings.filterwarnings('ignore')\n",
    "\n",
    "import numpy as np\n",
    "import pandas as pd\n",
    "\n",
    "from tqdm.auto import tqdm\n",
    "\n",
    "import torch\n",
    "import torch.nn as nn\n",
    "import torch.nn.functional as F\n",
    "import torch.optim as optim\n",
    "from torch.utils.data import DataLoader\n",
    "from torch.distributions.normal import Normal\n",
    "\n",
    "from plinko.misc import data_utils\n",
    "from plinko.misc.simulation_dataset import SimulationDataset\n",
    "from plinko.model.predictor_gru import GRUPredictor\n",
    "from plinko.misc import plot as plinko_plot\n",
    "from plinko.model.mlp import MLP\n",
    "from plinko.misc import utils\n",
    "\n",
    "from plotnine import * #ggplot, geom_point, aes, labs\n",
    "import matplotlib.pyplot as plt\n",
    "\n",
    "from sklearn import svm, datasets\n",
    "from sklearn.model_selection import train_test_split\n",
    "from sklearn.metrics import confusion_matrix\n",
    "from sklearn.utils.multiclass import unique_labels"
   ]
  },
  {
   "cell_type": "code",
   "execution_count": 3,
   "metadata": {},
   "outputs": [],
   "source": [
    "device = torch.device('cuda' if torch.cuda.is_available() else 'cpu')\n",
    "np.random.seed(0)\n",
    "torch.manual_seed(0)\n",
    "torch.set_default_tensor_type('torch.FloatTensor')\n",
    "epsilon = sys.float_info.epsilon\n",
    "\n",
    "df_ball = pd.read_feather(repo_path + '/data/simulations/sim_ball.feather')\n",
    "df_env = pd.read_feather(repo_path + '/data/simulations/sim_environment.feather')\n",
    "df_col = pd.read_feather(repo_path + '/data/simulations/sim_collisions.feather')"
   ]
  },
  {
   "cell_type": "code",
   "execution_count": 4,
   "metadata": {},
   "outputs": [],
   "source": [
    "def createStates(df_ball, df_env, df_col,device):\n",
    "    collisions = df_col.copy()\n",
    "    collisions = collisions.rename({'object': 'collision'}, axis=1)\n",
    "    collisions.t -= 1\n",
    "\n",
    "    collisions = df_ball.merge(collisions, how='left')\n",
    "    # collisions = collisions[~collisions.collision.isna()]\n",
    "    collisions.collision[collisions.collision.isna()] = 'none'\n",
    "    collisions.collision[(collisions.collision == 'walls') & (collisions.px < 200)] = 'left_wall'\n",
    "    collisions.collision[(collisions.collision == 'walls') & (collisions.px > 500)] = 'right_wall'\n",
    "    collisions = collisions.groupby('collision', as_index=False).apply(lambda x: x.sample(2000))\n",
    "    collisions = collisions.sort_values(['simulation', 'run', 't'])\n",
    "\n",
    "    env_columns = ['triangle_x', 'triangle_y', 'triangle_r',\n",
    "                   'rectangle_x', 'rectangle_y', 'rectangle_r',\n",
    "                   'pentagon_x', 'pentagon_y', 'pentagon_r']\n",
    "    envs = collisions.merge(df_env).sort_values(['simulation', 'run', 't'])[env_columns]\n",
    "\n",
    "    idx2col = sorted(collisions.collision.unique())\n",
    "    col2idx = {c: i for c, i in zip(idx2col, range(len(idx2col)))}\n",
    "\n",
    "    states = torch.tensor(collisions[['px', 'py', 'vx', 'vy']].values, dtype=torch.float, device=device)\n",
    "    targets = torch.tensor([col2idx[c] for c in collisions.collision], dtype=torch.long, device=device)\n",
    "    envs = torch.tensor(envs.values, dtype=torch.float, device=device)\n",
    "\n",
    "    return states,targets,envs, idx2col, col2idx"
   ]
  },
  {
   "cell_type": "code",
   "execution_count": 5,
   "metadata": {},
   "outputs": [],
   "source": [
    "collisions = df_col.copy()\n",
    "collisions = collisions.rename({'object': 'collision'}, axis=1)\n",
    "collisions.t -= 1\n",
    "\n",
    "collisions = df_ball.merge(collisions, how='left')\n",
    "#collisions = collisions[~collisions.collision.isna()]\n",
    "collisions.collision[collisions.collision.isna()] = 'none'\n",
    "collisions.collision[(collisions.collision == 'walls') & (collisions.px < 200)] = 'left_wall'\n",
    "collisions.collision[(collisions.collision == 'walls') & (collisions.px > 500)] = 'right_wall'\n",
    "collisions = collisions.groupby('collision', as_index=False).apply(lambda x: x.sample(2000))\n",
    "collisions = collisions.sort_values(['simulation', 'run', 't'])\n",
    "\n",
    "\n",
    "env_columns = ['triangle_x', 'triangle_y', 'triangle_r',\n",
    "               'rectangle_x', 'rectangle_y', 'rectangle_r',\n",
    "               'pentagon_x', 'pentagon_y','pentagon_r']\n",
    "envs = collisions.merge(df_env).sort_values(['simulation', 'run', 't'])[env_columns]\n",
    "\n",
    "idx2col = sorted(collisions.collision.unique())\n",
    "col2idx = {c: i for c, i in zip(idx2col, range(len(idx2col)))}\n",
    "\n",
    "states = torch.tensor(collisions[['px', 'py', 'vx', 'vy']].values, dtype=torch.float, device=device)\n",
    "targets = torch.tensor([col2idx[c] for c in collisions.collision], dtype=torch.long, device=device)\n",
    "envs = torch.tensor(envs.values, dtype=torch.float, device=device)\n",
    "\n",
    "# old versions\n",
    "df_envs2 = df_env.copy()\n",
    "df_envs2['triangle_rsin'] = np.sin(df_env['triangle_r'])\n",
    "df_envs2['triangle_rcos'] = np.cos(df_env['triangle_r'])\n",
    "df_envs2['rectangle_rsin'] = np.sin(df_env['rectangle_r'])\n",
    "df_envs2['rectangle_rcos'] = np.cos(df_env['rectangle_r'])\n",
    "df_envs2['pentagon_rsin'] = np.sin(df_env['pentagon_r'])\n",
    "df_envs2['pentagon_rcos'] = np.cos(df_env['pentagon_r'])\n",
    "\n",
    "env_trig_columns = ['triangle_x', 'triangle_y', 'triangle_rsin','triangle_rcos',\n",
    "               'rectangle_x', 'rectangle_y', 'rectangle_rsin','rectangle_rcos',\n",
    "               'pentagon_x', 'pentagon_y','pentagon_rsin', 'pentagon_rcos']\n",
    "envs_trig = collisions.merge(df_envs2).sort_values(['simulation', 'run', 't'])[env_trig_columns]"
   ]
  },
  {
   "cell_type": "raw",
   "metadata": {},
   "source": [
    "colls2_b1 = df_col.copy()\n",
    "colls2_b1 = colls2_b1.rename({'object': 'collision'}, axis=1)\n",
    "colls2_b1.t -= 1\n",
    "colls2_b2 = colls2_b1.copy()\n",
    "colls2_b3 = colls2_b2.copy()\n",
    "\n",
    "colls2_b1 = df_ball.merge(colls2_b1, how='left')\n",
    "colls2_b1 = colls2_b1.rename({'px': 'px_b1', 'py':'py_b1', 'vx':'vx_b1', 'vy':'vy_b1'}, axis=1)\n",
    "\n",
    "colls2_b2 = df_ball.merge(colls2_b2, how='left')\n",
    "colls2_b2 = colls2_b2.rename({'px': 'px_b2', 'py':'py_b2', 'vx':'vx_b2', 'vy':'vy_b2'}, axis=1)\n",
    "colls2_b2.t += 1\n",
    "\n",
    "colls2_b3 = df_ball.merge(colls2_b3, how='left')\n",
    "colls2_b3 = colls2_b3.rename({'px': 'px_b3', 'py':'py_b3', 'vx':'vx_b3', 'vy':'vy_b3'}, axis=1)\n",
    "colls2_b3.t += 2\n",
    "\n",
    "\n",
    "colls2 = colls2_b1.merge(colls2_b2, left_on=['simulation','run','t'], right_on=['simulation','run','t'])\n",
    "colls2 = colls2.merge(colls2_b3, left_on=['simulation','run','t'], right_on=['simulation','run','t'])\n",
    "print(colls2_b1.head())\n",
    "print(colls2_b2.head())\n",
    "print(colls2.head())\n",
    "colls2 = colls2.drop(columns=[\"collision_x\", \"collision_y\"])\n",
    "\n",
    "#collisions = collisions[~collisions.collision.isna()]\n",
    "colls2.collision[colls2.collision.isna()] = 'none'\n",
    "colls2.collision[(colls2.collision == 'walls') & (colls2.px_b1 < 200)] = 'left_wall'\n",
    "colls2.collision[(colls2.collision == 'walls') & (colls2.px_b1 > 500)] = 'right_wall'\n",
    "colls2 = colls2.groupby('collision', as_index=False).apply(lambda x: x.sample(2000))\n",
    "colls2 = colls2.sort_values(['simulation', 'run', 't'])\n",
    "\n",
    "env2_columns = ['triangle_x', 'triangle_y', 'triangle_r',\n",
    "               'rectangle_x', 'rectangle_y', 'rectangle_r',\n",
    "               'pentagon_x', 'pentagon_y','pentagon_r']\n",
    "envs2 = colls2.merge(df_env).sort_values(['simulation', 'run', 't'])[env2_columns]\n",
    "\n",
    "idx2col = sorted(colls2.collision.unique())\n",
    "col2idx = {c: i for c, i in zip(idx2col, range(len(idx2col)))}\n",
    "\n",
    "states2 = torch.tensor(colls2[['px_b1', 'py_b1', 'vx_b1', 'vy_b1', 'px_b2', 'py_b2', 'vx_b2', 'vy_b2','px_b3', 'py_b3', 'vx_b3', 'vy_b3']].values, dtype=torch.float, device=device)\n",
    "targets2 = torch.tensor([col2idx[c] for c in colls2.collision], dtype=torch.long, device=device)\n",
    "envs2 = torch.tensor(envs2.values, dtype=torch.float, device=device)"
   ]
  },
  {
   "cell_type": "code",
   "execution_count": 6,
   "metadata": {},
   "outputs": [
    {
     "data": {
      "text/plain": [
       "HBox(children=(FloatProgress(value=0.0, max=2001.0), HTML(value='')))"
      ]
     },
     "metadata": {},
     "output_type": "display_data"
    },
    {
     "name": "stdout",
     "output_type": "stream",
     "text": [
      "0 2.4775 0.1234\n",
      "100 0.8833 0.6729\n",
      "200 0.5614 0.7892\n",
      "300 0.4043 0.8618\n",
      "400 0.3084 0.8962\n",
      "500 0.2545 0.915\n",
      "600 0.2127 0.9313\n",
      "700 0.1808 0.9423\n",
      "800 0.1556 0.9503\n",
      "900 0.1354 0.9578\n",
      "1000 0.1221 0.9612\n",
      "1100 0.1137 0.9644\n",
      "1200 0.107 0.9661\n",
      "1300 0.1013 0.9691\n",
      "1400 0.0977 0.9707\n",
      "1500 0.0938 0.9711\n",
      "1600 0.0913 0.9729\n",
      "1700 0.0898 0.9721\n",
      "1800 0.0865 0.9727\n",
      "1900 0.0835 0.9748\n",
      "2000 0.0811 0.9754\n",
      "\n"
     ]
    }
   ],
   "source": [
    "model = MLP(input_size=[9, 4],\n",
    "            hidden_layer_size=[16,16,16,16,16],\n",
    "            activation=F.elu,\n",
    "            output_size=len(idx2col)).to(device)\n",
    "optimizer = optim.Adam(model.parameters(), lr=0.001, weight_decay=0.001)\n",
    "epochs = 2000\n",
    "\n",
    "rows = []\n",
    "for epoch in tqdm(range(epochs+1)):\n",
    "    optimizer.zero_grad()\n",
    "    outputs = model(envs, states)\n",
    "    loss = F.cross_entropy(outputs, targets)\n",
    "    loss.backward()\n",
    "    optimizer.step()\n",
    "    \n",
    "    loss = float(loss)\n",
    "    corrects = (outputs.argmax(-1) == targets).float()\n",
    "    accuracy = float(corrects.mean())\n",
    "    row = {'epoch': epoch, 'loss': loss, 'acc_total': accuracy}\n",
    "    for idx in range(len(idx2col)):\n",
    "        row['acc_' + idx2col[idx]] = float(corrects[targets == idx].mean())\n",
    "    rows.append(row)\n",
    "    if epoch%100 == 0:\n",
    "        print(epoch, round(loss, 4), round(accuracy, 4))\n",
    "        \n",
    "summary = pd.DataFrame(rows)"
   ]
  },
  {
   "cell_type": "code",
   "execution_count": 7,
   "metadata": {},
   "outputs": [],
   "source": [
    "savename = repo_path + '/experiments/collisions/mlp'\n",
    "torch.save(model.state_dict(), savename + '.model')"
   ]
  },
  {
   "cell_type": "raw",
   "metadata": {},
   "source": [
    "model = MLP(input_size=[17, 4],\n",
    "            hidden_layer_size=[48,48,48],\n",
    "            activation=F.elu,\n",
    "            output_size=len(idx2col)).to(device)\n",
    "optimizer = optim.Adam(model.parameters(), lr=0.01, weight_decay=0.001)\n",
    "#optimizer = optim.SGD(model.parameters(), lr=0.001, momentum = 0.1,dampening=0,weight_decay=0.001)\n",
    "epochs = 1000\n",
    "\n",
    "rows = []\n",
    "for epoch in tqdm(range(epochs+1)):\n",
    "    optimizer.zero_grad()\n",
    "    outputs = model(envs2, states2)\n",
    "    loss = F.cross_entropy(outputs, targets2)\n",
    "    loss.backward()\n",
    "    optimizer.step()\n",
    "    \n",
    "    loss = float(loss)\n",
    "    corrects = (outputs.argmax(-1) == targets2).float()\n",
    "    accuracy = float(corrects.mean())\n",
    "    row = {'epoch': epoch, 'loss': loss, 'acc_total': accuracy}\n",
    "    for idx in range(len(idx2col)):\n",
    "        row['acc_' + idx2col[idx]] = float(corrects[targets2 == idx].mean())\n",
    "    rows.append(row)\n",
    "    if epoch%100 == 0:\n",
    "        print(epoch, round(loss, 4), round(accuracy, 4))\n",
    "        \n",
    "summary = pd.DataFrame(rows)"
   ]
  },
  {
   "cell_type": "code",
   "execution_count": 8,
   "metadata": {},
   "outputs": [
    {
     "name": "stdout",
     "output_type": "stream",
     "text": [
      "Empty DataFrame\n",
      "Columns: [epoch, collision, accuracy]\n",
      "Index: []\n"
     ]
    }
   ],
   "source": [
    "accuracies = summary.drop('loss', axis=1)\n",
    "accuracies = pd.melt(accuracies, id_vars='epoch', var_name='collision')\n",
    "accuracies.collision = [a[4:] for a in accuracies.collision]\n",
    "accuracies = accuracies.rename({'value': 'accuracy'}, axis=1)\n",
    "\n",
    "(ggplot(accuracies)\n",
    "     + geom_point(aes(x='epoch', y='accuracy', color='collision'))\n",
    "     + labs(title='Collision Classification Accuracy')\n",
    "     + ylim(0, 1)\n",
    "     + theme(\n",
    "             figure_size=(12, 6),\n",
    "             panel_background=element_blank(),\n",
    "             line=element_blank(),\n",
    "             panel_border=element_blank(),\n",
    "            )\n",
    ")\n",
    "\n",
    "print(accuracies[accuracies['epoch']==3000])"
   ]
  },
  {
   "cell_type": "code",
   "execution_count": 9,
   "metadata": {},
   "outputs": [
    {
     "name": "stdout",
     "output_type": "stream",
     "text": [
      "[[9.855e-01 3.000e-03 5.500e-03 0.000e+00 0.000e+00 6.000e-03 0.000e+00]\n",
      " [2.000e-03 9.980e-01 0.000e+00 0.000e+00 0.000e+00 0.000e+00 0.000e+00]\n",
      " [2.200e-02 6.500e-03 8.800e-01 9.000e-03 2.700e-02 3.700e-02 1.850e-02]\n",
      " [0.000e+00 0.000e+00 2.000e-03 9.975e-01 0.000e+00 5.000e-04 0.000e+00]\n",
      " [0.000e+00 0.000e+00 9.500e-03 5.000e-04 9.900e-01 0.000e+00 0.000e+00]\n",
      " [1.300e-02 0.000e+00 3.500e-03 0.000e+00 0.000e+00 9.835e-01 0.000e+00]\n",
      " [0.000e+00 0.000e+00 6.000e-03 0.000e+00 5.000e-04 0.000e+00 9.935e-01]]\n"
     ]
    },
    {
     "data": {
      "text/plain": [
       "[None,\n",
       " None,\n",
       " None,\n",
       " None,\n",
       " None,\n",
       " None,\n",
       " None,\n",
       " None,\n",
       " None,\n",
       " None,\n",
       " None,\n",
       " None,\n",
       " None,\n",
       " None]"
      ]
     },
     "execution_count": 9,
     "metadata": {},
     "output_type": "execute_result"
    },
    {
     "data": {
      "image/png": "[encoded data removed]",
      "text/plain": [
       "<Figure size 432x288 with 2 Axes>"
      ]
     },
     "metadata": {
      "needs_background": "light"
     },
     "output_type": "display_data"
    }
   ],
   "source": [
    "cm = confusion_matrix(targets.cpu(), outputs.argmax(-1).cpu())\n",
    "cm = cm.astype('float') / cm.sum(axis=1)[:, np.newaxis] # normalize\n",
    "classes = idx2col\n",
    "\n",
    "print(cm)\n",
    "\n",
    "fig, ax = plt.subplots()\n",
    "im = ax.imshow(cm, interpolation='nearest', cmap=plt.cm.Blues)\n",
    "ax.figure.colorbar(im, ax=ax)\n",
    "# We want to show all ticks...\n",
    "ax.set(xticks=np.arange(cm.shape[1]),\n",
    "       yticks=np.arange(cm.shape[0]),\n",
    "       # ... and label them with the respective list entries\n",
    "       xticklabels=classes, yticklabels=classes,\n",
    "       title='Confusion Matrix',\n",
    "       ylabel='True label',\n",
    "       xlabel='Predicted label')\n",
    "\n",
    "# Rotate the tick labels and set their alignment.\n",
    "plt.setp(ax.get_xticklabels(), rotation=45, ha=\"right\",\n",
    "         rotation_mode=\"anchor\")"
   ]
  },
  {
   "cell_type": "code",
   "execution_count": 30,
   "metadata": {},
   "outputs": [
    {
     "name": "stdout",
     "output_type": "stream",
     "text": [
      "['ground', 'left_wall', 'none', 'pentagon', 'rectangle', 'right_wall', 'triangle']\n",
      "[[9.775e-01 4.000e-03 6.000e-03 0.000e+00 0.000e+00 1.250e-02 0.000e+00]\n",
      " [2.000e-03 9.980e-01 0.000e+00 0.000e+00 0.000e+00 0.000e+00 0.000e+00]\n",
      " [2.950e-02 1.450e-02 8.310e-01 2.550e-02 4.000e-02 2.800e-02 3.150e-02]\n",
      " [0.000e+00 0.000e+00 6.000e-03 9.940e-01 0.000e+00 0.000e+00 0.000e+00]\n",
      " [0.000e+00 0.000e+00 1.400e-02 0.000e+00 9.835e-01 1.000e-03 1.500e-03]\n",
      " [1.600e-02 0.000e+00 4.000e-03 0.000e+00 0.000e+00 9.800e-01 0.000e+00]\n",
      " [0.000e+00 0.000e+00 4.500e-03 0.000e+00 5.000e-04 0.000e+00 9.950e-01]]\n"
     ]
    },
    {
     "data": {
      "image/png": "[encoded data removed]",
      "text/plain": [
       "<Figure size 432x288 with 2 Axes>"
      ]
     },
     "metadata": {
      "needs_background": "light"
     },
     "output_type": "display_data"
    }
   ],
   "source": [
    "# sample new test set\n",
    "states_test,targets_test,envs_test, idx2col, col2idx = createStates(df_ball, df_env, df_col,device)\n",
    "\n",
    "savename = repo_path + '/experiments/collisions/mlp'\n",
    "\n",
    "#model = relNet(state_size = 4, state_hn = 4, state_embed_size=32,\n",
    "#                obj_size = 3, obj_hn = 4,obj_embed_size=16,\n",
    "#                obj_n = 3, nullobj_n = 4,\n",
    "#                mlp_hsize = 16, mlp_hn=3, mlp_outsize=1).to(device)\n",
    "#model.load_state_dict(torch.load(savename + '.model'))\n",
    "#model.eval()\n",
    "outputs = model(envs_test, states_test)\n",
    "\n",
    "cm = confusion_matrix(targets_test.cpu(), outputs.argmax(-1).cpu())\n",
    "cm = cm.astype('float') / cm.sum(axis=1)[:, np.newaxis] # normalize\n",
    "classes = idx2col\n",
    "print(classes)\n",
    "\n",
    "print(cm)\n",
    "fig, ax = plt.subplots()\n",
    "im = ax.imshow(cm, interpolation='nearest', cmap=plt.cm.Blues)\n",
    "ax.figure.colorbar(im, ax=ax)\n",
    "# We want to show all ticks...\n",
    "ax.set(xticks=np.arange(cm.shape[1]),\n",
    "       yticks=np.arange(cm.shape[0]),\n",
    "       # ... and label them with the respective list entries\n",
    "       xticklabels=classes, yticklabels=classes,\n",
    "       title='RelNet Test Set Confusion Matrix',\n",
    "       ylabel='True label',\n",
    "       xlabel='Predicted label')\n",
    "\n",
    "# Rotate the tick labels and set their alignment.\n",
    "plt.setp(ax.get_xticklabels(), rotation=45, ha=\"right\",\n",
    "         rotation_mode=\"anchor\")\n",
    "\n",
    "s = 'mlp_testconfusion'\n",
    "path = repo_path + '/experiments/collisions/'\n",
    "plt.savefig(path+s)"
   ]
  },
  {
   "cell_type": "code",
   "execution_count": 36,
   "metadata": {},
   "outputs": [
    {
     "name": "stdout",
     "output_type": "stream",
     "text": [
      "average_acc = 0.9655714285714285\n",
      "collision_acc = 0.9908333333333333\n",
      "wall_collision_acc = 0.989\n"
     ]
    }
   ],
   "source": [
    "average_acc = np.mean([9.775e-01,9.980e-01,8.310e-01,9.940e-01,9.835e-01,9.800e-01,9.950e-01])\n",
    "print('average_acc = ' + str(average_acc))\n",
    "collision_acc = np.mean([9.940e-01,9.835e-01,9.950e-01])\n",
    "print('collision_acc = ' + str(collision_acc))\n",
    "wall_collision_acc = np.mean([9.980e-01,9.800e-01])\n",
    "print('wall_collision_acc = ' + str(wall_collision_acc))"
   ]
  },
  {
   "cell_type": "code",
   "execution_count": null,
   "metadata": {},
   "outputs": [],
   "source": []
  }
 ],
 "metadata": {
  "kernelspec": {
   "display_name": "Python 3",
   "language": "python",
   "name": "python3"
  },
  "language_info": {
   "codemirror_mode": {
    "name": "ipython",
    "version": 3
   },
   "file_extension": ".py",
   "mimetype": "text/x-python",
   "name": "python",
   "nbconvert_exporter": "python",
   "pygments_lexer": "ipython3",
   "version": "3.6.5"
  }
 },
 "nbformat": 4,
 "nbformat_minor": 2
}
